{
 "cells": [
  {
   "cell_type": "code",
   "execution_count": 1,
   "metadata": {},
   "outputs": [
    {
     "name": "stdout",
     "output_type": "stream",
     "text": [
      "5:30\n"
     ]
    }
   ],
   "source": [
    "class Clock():\n",
    " def __init__(self, time):\n",
    "    self.time = time\n",
    " def print_time(self):\n",
    "    time = '6:30'\n",
    "    print(self.time)\n",
    "\n",
    "clock = Clock('5:30')\n",
    "clock.print_time()"
   ]
  },
  {
   "cell_type": "code",
   "execution_count": 3,
   "metadata": {},
   "outputs": [],
   "source": [
    "#Question 1\n",
    "# a) The code will print 5:30\n",
    "# b) The first step: clock = Clock('5:30') create a object clock and it set paramater time as 5:30. self.time = 5:30.\n",
    "# The second step: clock.print_time() go to the second method and print self.time which is 5:30.\n",
    "# The time = '6:30' won't influence since it's different from self.time."
   ]
  },
  {
   "cell_type": "code",
   "execution_count": 4,
   "metadata": {},
   "outputs": [
    {
     "name": "stdout",
     "output_type": "stream",
     "text": [
      "10:30\n"
     ]
    }
   ],
   "source": [
    "class Clock():\n",
    " def __init__(self, time):\n",
    "    self.time = time\n",
    " def print_time(self, time):\n",
    "    print(time)\n",
    "\n",
    "clock = Clock('5:30')\n",
    "clock.print_time('10:30')"
   ]
  },
  {
   "cell_type": "code",
   "execution_count": 8,
   "metadata": {},
   "outputs": [],
   "source": [
    "#Question 2\n",
    "# a) The code will print 10:30\n",
    "# b) If parameter has same name as object attributes, \n",
    "#    the latest value in object attributes will replace the old value in parameter. "
   ]
  },
  {
   "cell_type": "code",
   "execution_count": 5,
   "metadata": {},
   "outputs": [
    {
     "name": "stdout",
     "output_type": "stream",
     "text": [
      "5:30\n",
      "10:30\n"
     ]
    }
   ],
   "source": [
    "class Clock():\n",
    " def __init__(self, time):\n",
    "    self.time = time\n",
    " def print_time(self):\n",
    "    print( self.time)\n",
    "\n",
    "class Clock1(Clock):\n",
    " pass\n",
    "\n",
    "boston_clock = Clock('5:30')\n",
    "paris_clock = Clock1('10:30')\n",
    "\n",
    "boston_clock.print_time()\n",
    "paris_clock.print_time()"
   ]
  },
  {
   "cell_type": "code",
   "execution_count": 6,
   "metadata": {},
   "outputs": [],
   "source": [
    "#Question 2\n",
    "# a) The code will print 5:30   10:30\n",
    "#b)Boston clock and Paris clock are different objects.Boston clock uses class Clock().Paris clock uses class Clock1()\n",
    "# Although the content is same, Clock() is a parent class and Clock1() is a Child class.\n",
    "# The first step: boston_clock = Clock('5:30')create a object boston_clock and it set paramater time as 5:30. \n",
    "# In object boston_clock, self.time = 5:30.\n",
    "# The second step: paris_clock = Clock1('10:30') create a object paris_clock and it set paramater time as 10:30. \n",
    "# In object paris_clock, self.time = 10:30.\n",
    "# The third step is boston_clock.print_time() go to the second method: print_time and print self.time which is 5:30.\n",
    "# The forth step is bparis_clock.print_time() go to the second method: print_time and print self.time which is 10:30.\n"
   ]
  },
  {
   "cell_type": "code",
   "execution_count": 11,
   "metadata": {},
   "outputs": [
    {
     "name": "stdout",
     "output_type": "stream",
     "text": [
      "[5, 6]\n",
      "[6, 7]\n",
      "queue is empty now.\n"
     ]
    }
   ],
   "source": [
    "class Queue():\n",
    " def __init__(self):\n",
    "    self.line = []\n",
    "    \n",
    " def remove(self):\n",
    "   # if self.line != []:\n",
    "    try:\n",
    "        self.line.remove(self.line[0])\n",
    "   # else:\n",
    "    except:\n",
    "        print('queue is empty now.')\n",
    " def insert(self, line):\n",
    "    self.line.append(line)\n",
    "\n",
    " def print(self):\n",
    "    print(self.line)\n",
    "    \n",
    "\n",
    "\n",
    "queue = Queue()\n",
    "queue.insert(5)\n",
    "queue.insert(6)\n",
    "queue.print()\n",
    "\n",
    "queue.insert(7)\n",
    "queue.remove()\n",
    "queue.print()\n",
    "\n",
    "queue.remove()\n",
    "queue.remove()\n",
    "queue.remove()"
   ]
  },
  {
   "cell_type": "code",
   "execution_count": null,
   "metadata": {},
   "outputs": [],
   "source": []
  }
 ],
 "metadata": {
  "kernelspec": {
   "display_name": "Python 3",
   "language": "python",
   "name": "python3"
  },
  "language_info": {
   "codemirror_mode": {
    "name": "ipython",
    "version": 3
   },
   "file_extension": ".py",
   "mimetype": "text/x-python",
   "name": "python",
   "nbconvert_exporter": "python",
   "pygments_lexer": "ipython3",
   "version": "3.8.3"
  }
 },
 "nbformat": 4,
 "nbformat_minor": 4
}
